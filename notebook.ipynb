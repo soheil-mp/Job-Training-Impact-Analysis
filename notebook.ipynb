{
 "cells": [
  {
   "cell_type": "markdown",
   "metadata": {},
   "source": [
    "<h1 style=\"text-align: center;\">Causal Inference with DoubleML: Job Training Impact Analysis</h1>"
   ]
  },
  {
   "cell_type": "markdown",
   "metadata": {},
   "source": [
    "<br>\n",
    "\n",
    "## Initial Setup\n",
    "\n",
    "---"
   ]
  },
  {
   "cell_type": "code",
   "execution_count": null,
   "metadata": {},
   "outputs": [],
   "source": [
    "import numpy as np\n",
    "import pandas as pd\n",
    "import matplotlib.pyplot as plt\n",
    "import seaborn as sns\n",
    "from sklearn.ensemble import RandomForestRegressor, RandomForestClassifier\n",
    "from sklearn.linear_model import LassoCV\n",
    "from sklearn.preprocessing import StandardScaler\n",
    "from doubleml import DoubleMLPLR, DoubleMLIRM\n",
    "from doubleml import DoubleMLData\n",
    "from scipy import stats"
   ]
  },
  {
   "cell_type": "code",
   "execution_count": null,
   "metadata": {},
   "outputs": [],
   "source": [
    "# Set random seed for reproducibility\n",
    "np.random.seed(42)"
   ]
  },
  {
   "cell_type": "markdown",
   "metadata": {},
   "source": [
    "<br>\n",
    "\n",
    "## Load and Prepare Dataset\n",
    "\n",
    "---"
   ]
  },
  {
   "cell_type": "code",
   "execution_count": null,
   "metadata": {},
   "outputs": [],
   "source": [
    "# Load the LaLonde dataset\n",
    "url = \"https://raw.githubusercontent.com/mdcattaneo/replication-CCJM_2022_RESTAT/main/lalonde.csv\"\n",
    "df = pd.read_csv(url)\n",
    "\n",
    "# Prepare the data\n",
    "y_col = 're78'  # 1978 earnings (outcome)\n",
    "d_col = 'treat'  # Treatment indicator\n",
    "x_cols = ['age', 'educ', 'black', 'hisp', 'married', 'nodegree', 're74', 're75']\n",
    "\n",
    "# Create DoubleMLData object\n",
    "dml_data = DoubleMLData(df, y_col, d_col, x_cols)\n",
    "\n",
    "# Standardize continuous variables\n",
    "scaler = StandardScaler()\n",
    "df[['age', 'educ', 're74', 're75']] = scaler.fit_transform(df[['age', 'educ', 're74', 're75']])\n"
   ]
  },
  {
   "cell_type": "markdown",
   "metadata": {},
   "source": [
    "<br>\n",
    "\n",
    "## Exploratory Data Analysis (EDA)\n",
    "\n",
    "---"
   ]
  },
  {
   "cell_type": "code",
   "execution_count": null,
   "metadata": {},
   "outputs": [],
   "source": [
    "# Basic statistics\n",
    "print(df.describe())\n",
    "\n",
    "# Treatment group sizes\n",
    "print(df['treat'].value_counts(normalize=True))\n",
    "\n",
    "# Correlation heatmap\n",
    "plt.figure(figsize=(12, 10))\n",
    "sns.heatmap(df[x_cols + [y_col, d_col]].corr(), annot=True, cmap='coolwarm')\n",
    "plt.title('Correlation Heatmap')\n",
    "plt.show()\n",
    "\n",
    "# Distribution of outcome variable by treatment group\n",
    "plt.figure(figsize=(10, 6))\n",
    "sns.histplot(data=df, x=y_col, hue=d_col, element='step', stat='density', common_norm=False)\n",
    "plt.title('Distribution of 1978 Earnings by Treatment Group')\n",
    "plt.show()"
   ]
  },
  {
   "cell_type": "markdown",
   "metadata": {},
   "source": [
    "<br>\n",
    "\n",
    "## DoubleML Estimation\n",
    "\n",
    "---"
   ]
  },
  {
   "cell_type": "code",
   "execution_count": null,
   "metadata": {},
   "outputs": [],
   "source": [
    "# Specify the machine learning models\n",
    "ml_g = RandomForestRegressor(n_estimators=100, max_depth=5)\n",
    "ml_m = RandomForestClassifier(n_estimators=100, max_depth=5)\n",
    "\n",
    "# Create and fit DoubleMLPLR model\n",
    "dml_plr = DoubleMLPLR(dml_data, ml_g, ml_m)\n",
    "dml_plr.fit()\n",
    "\n",
    "print(\"Partial Linear Regression Results:\")\n",
    "print(dml_plr.summary)\n",
    "\n",
    "# Create and fit DoubleMLIRM model (Interactive Regression Model)\n",
    "dml_irm = DoubleMLIRM(dml_data, ml_g, ml_m)\n",
    "dml_irm.fit()\n",
    "\n",
    "print(\"\\nInteractive Regression Model Results:\")\n",
    "print(dml_irm.summary)"
   ]
  },
  {
   "cell_type": "markdown",
   "metadata": {},
   "source": [
    "<br>\n",
    "\n",
    "## Comparison with Other Methods\n",
    "\n",
    "---"
   ]
  },
  {
   "cell_type": "code",
   "execution_count": null,
   "metadata": {},
   "outputs": [],
   "source": [
    "# Naive estimate (simple difference in means)\n",
    "naive_ate = df[df[d_col] == 1][y_col].mean() - df[df[d_col] == 0][y_col].mean()\n",
    "\n",
    "print(f\"Naive ATE estimate: ${naive_ate:.2f}\")\n",
    "\n",
    "# Simple OLS regression\n",
    "import statsmodels.api as sm\n",
    "\n",
    "X = sm.add_constant(df[x_cols + [d_col]])\n",
    "ols_model = sm.OLS(df[y_col], X).fit()\n",
    "print(\"\\nOLS Regression Results:\")\n",
    "print(ols_model.summary())"
   ]
  },
  {
   "cell_type": "markdown",
   "metadata": {},
   "source": [
    "<br>\n",
    "\n",
    "## Additional Analyses\n",
    "\n",
    "---"
   ]
  },
  {
   "cell_type": "code",
   "execution_count": null,
   "metadata": {},
   "outputs": [],
   "source": [
    "# Heterogeneous treatment effects\n",
    "def het_treat_effect(df, feature):\n",
    "    grouped = df.groupby(feature)\n",
    "    effects = grouped.apply(lambda x: x[x[d_col] == 1][y_col].mean() - x[x[d_col] == 0][y_col].mean())\n",
    "    return effects\n",
    "\n",
    "# Calculate heterogeneous effects for education\n",
    "het_effects_educ = het_treat_effect(df, 'educ')\n",
    "\n",
    "plt.figure(figsize=(10, 6))\n",
    "het_effects_educ.plot(kind='bar')\n",
    "plt.title('Heterogeneous Treatment Effects by Education Level')\n",
    "plt.xlabel('Education (years)')\n",
    "plt.ylabel('Estimated Treatment Effect')\n",
    "plt.show()\n",
    "\n",
    "# Sensitivity analysis\n",
    "def sensitivity_analysis(model, n_simulations=1000):\n",
    "    coef_samples = np.random.normal(model.coef[0], model.se[0], n_simulations)\n",
    "    return pd.Series(coef_samples).describe()\n",
    "\n",
    "print(\"\\nSensitivity Analysis for DoubleMLPLR:\")\n",
    "print(sensitivity_analysis(dml_plr))\n",
    "\n",
    "# Propensity score analysis\n",
    "propensity_model = RandomForestClassifier(n_estimators=100, max_depth=5)\n",
    "propensity_model.fit(df[x_cols], df[d_col])\n",
    "df['propensity_score'] = propensity_model.predict_proba(df[x_cols])[:, 1]\n",
    "\n",
    "plt.figure(figsize=(10, 6))\n",
    "sns.histplot(data=df, x='propensity_score', hue=d_col, element='step', stat='density', common_norm=False)\n",
    "plt.title('Distribution of Propensity Scores by Treatment Group')\n",
    "plt.show()"
   ]
  },
  {
   "cell_type": "markdown",
   "metadata": {},
   "source": [
    "<br>\n",
    "\n",
    "## Results Interpretation\n",
    "\n",
    "---"
   ]
  },
  {
   "cell_type": "code",
   "execution_count": null,
   "metadata": {},
   "outputs": [],
   "source": [
    "def interpret_results(model):\n",
    "    ate = model.coef[0]\n",
    "    se = model.se[0]\n",
    "    ci_lower, ci_upper = model.confint()[0]\n",
    "    \n",
    "    print(f\"Estimated Average Treatment Effect: ${ate:.2f}\")\n",
    "    print(f\"95% Confidence Interval: (${ci_lower:.2f}, ${ci_upper:.2f})\")\n",
    "    print(f\"P-value: {model.pval[0]:.4f}\")\n",
    "    \n",
    "    if model.pval[0] < 0.05:\n",
    "        print(\"The treatment effect is statistically significant at the 5% level.\")\n",
    "    else:\n",
    "        print(\"The treatment effect is not statistically significant at the 5% level.\")\n",
    "    \n",
    "    print(f\"This suggests that, on average, the job training program \")\n",
    "    print(f\"{'increased' if ate > 0 else 'decreased'} 1978 earnings by ${abs(ate):.2f}.\")\n",
    "\n",
    "print(\"\\nInterpretation of DoubleMLPLR results:\")\n",
    "interpret_results(dml_plr)"
   ]
  },
  {
   "cell_type": "code",
   "execution_count": null,
   "metadata": {},
   "outputs": [],
   "source": []
  }
 ],
 "metadata": {
  "language_info": {
   "name": "python"
  }
 },
 "nbformat": 4,
 "nbformat_minor": 2
}
